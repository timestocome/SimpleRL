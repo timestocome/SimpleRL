{
 "cells": [
  {
   "cell_type": "markdown",
   "metadata": {},
   "source": [
    "\n",
    "#### http://github.com/timestocome\n",
    "\n",
    "\n",
    "## N-armed Bandits in N-casinos\n",
    "### Adapted from Chpt 2 Deep Reinforcement Learning _in Action_\n",
    "\n",
    "The book uses the same number of actions and states which isn't as clear as I'd like. So I changed it to have 10 actions(bandits) in 12 casinos(states) The pytorch network is a 2 layer Q network. \n",
    "\n"
   ]
  },
  {
   "cell_type": "code",
   "execution_count": 1,
   "metadata": {},
   "outputs": [],
   "source": [
    "# setup\n",
    "\n",
    "import numpy as np\n",
    "from scipy import stats\n",
    "import random\n",
    "import matplotlib.pyplot as plt\n",
    "\n",
    "\n",
    "n_bandits = 10\n",
    "n_casinos = 12\n",
    "probs = np.random.rand(n_bandits) \n",
    "eps = 0.1  # how often to randomly check other bandits instead of greedy choice"
   ]
  },
  {
   "cell_type": "code",
   "execution_count": 2,
   "metadata": {},
   "outputs": [],
   "source": [
    "# use probability of reward from each bandit instead of raw rewards\n",
    "# av running rewards\n",
    "# tau == temperature, higher temp smooths probabilities, lower magnifies differences\n",
    "# this is the policy function\n",
    "def softmax(av, tau=1.12):\n",
    "    softm = ( np.exp(av / tau) / np.sum( np.exp(av / tau) ) )\n",
    "    return softm"
   ]
  },
  {
   "cell_type": "code",
   "execution_count": 3,
   "metadata": {},
   "outputs": [],
   "source": [
    "# create  bandit class with n_bandits in n_casinos\n",
    "# bandits are the action chosen \n",
    "# casinos are the state user is in\n",
    "\n",
    "class ContextBandit:\n",
    "    # setup n bandits\n",
    "    def __init__(self, n_bandits, n_casinos):\n",
    "        self.n_bandits = n_bandits\n",
    "        self.n_casinos = n_casinos\n",
    "        self.init_distribution(self.n_bandits, self.n_casinos)\n",
    "        self.update_state()\n",
    "        \n",
    "    def init_distribution(self, n_bandits, n_casinos):\n",
    "        \n",
    "        #each row represents a state, each column an arm\n",
    "        self.bandit_matrix = np.random.rand(n_casinos, n_bandits)\n",
    "        \n",
    "    def reward(self, prob):\n",
    "        reward = 0\n",
    "        for i in range(self.n_bandits):\n",
    "            if random.random() < prob:\n",
    "                reward += 1\n",
    "        return reward\n",
    "        \n",
    "    # get casino\n",
    "    def get_state(self):\n",
    "        return self.state\n",
    "    \n",
    "    def update_state(self):\n",
    "        self.state = np.random.randint(0, self.n_casinos)\n",
    "        \n",
    "    def get_reward(self, bandit):\n",
    "        return self.reward(self.bandit_matrix[self.get_state()][bandit])\n",
    "        \n",
    "    def choose_arm(self, bandit):\n",
    "        reward = self.get_reward(bandit)\n",
    "        self.update_state()\n",
    "        return reward"
   ]
  },
  {
   "cell_type": "code",
   "execution_count": 4,
   "metadata": {},
   "outputs": [],
   "source": [
    "# use pytorch to create 2 layer fully connected network\n",
    "\n",
    "import numpy as np\n",
    "import torch\n",
    "\n",
    "\n",
    "# network \n",
    "n_in = n_bandits  # action\n",
    "n_out = n_casinos # state\n",
    "n_hidden = 100\n",
    "N, D_in, H, D_out = 1, n_bandits, n_hidden, n_casinos "
   ]
  },
  {
   "cell_type": "code",
   "execution_count": 5,
   "metadata": {},
   "outputs": [
    {
     "name": "stdout",
     "output_type": "stream",
     "text": [
      "5\n"
     ]
    }
   ],
   "source": [
    "env = ContextBandit(n_bandits, n_casinos)\n",
    "state = env.get_state()\n",
    "reward = env.choose_arm(1)\n",
    "print(state)"
   ]
  },
  {
   "cell_type": "code",
   "execution_count": 6,
   "metadata": {},
   "outputs": [],
   "source": [
    "# fully connected, relu network\n",
    "model = torch.nn.Sequential(\n",
    "    torch.nn.Linear(n_casinos, H),\n",
    "    torch.nn.ReLU(),\n",
    "    \n",
    "    torch.nn.Linear(H, n_bandits),\n",
    "    torch.nn.ReLU(),\n",
    ")"
   ]
  },
  {
   "cell_type": "code",
   "execution_count": 7,
   "metadata": {},
   "outputs": [],
   "source": [
    "# model loss is mean squared error\n",
    "loss_fn = torch.nn.MSELoss()"
   ]
  },
  {
   "cell_type": "code",
   "execution_count": 8,
   "metadata": {},
   "outputs": [],
   "source": [
    "# environment is matrix of [states, actions] ( casinos, bandits )\n",
    "env = ContextBandit(n_bandits, n_casinos)"
   ]
  },
  {
   "cell_type": "code",
   "execution_count": 9,
   "metadata": {},
   "outputs": [],
   "source": [
    "# utility to create one-hot vectors\n",
    "def one_hot(N, pos, val=1):\n",
    "    \n",
    "    one_hot_vec = np.zeros(N)\n",
    "    one_hot_vec[pos] = val\n",
    "    \n",
    "    return one_hot_vec"
   ]
  },
  {
   "cell_type": "code",
   "execution_count": 10,
   "metadata": {},
   "outputs": [],
   "source": [
    "# N == number of running mean to use --- memory\n",
    "def running_mean(x, N=50):\n",
    "    \n",
    "    c = x.shape[0] - N  # truncate to memory size\n",
    "    y = np.zeros(c)     # create array of zeros\n",
    "    conv = np.ones(N)   # create array of ones\n",
    "    \n",
    "    # for each reward calculate running average and store in y\n",
    "    for i in range(c):\n",
    "        y[i] = (x[i:i+N] @ conv)/N\n",
    "    \n",
    "    return y"
   ]
  },
  {
   "cell_type": "code",
   "execution_count": 11,
   "metadata": {},
   "outputs": [],
   "source": [
    "\n",
    "def train(env, epochs=5000, learning_rate=1e-2):\n",
    "\n",
    "    # pre load current state and setup model\n",
    "    cur_state = torch.Tensor(one_hot(n_casinos, env.get_state())) \n",
    "    optimizer = torch.optim.Adam(model.parameters(), lr=learning_rate)\n",
    "    rewards = []\n",
    "    \n",
    "    \n",
    "    for i in range(epochs):\n",
    "    \n",
    "        # get predicted reward for current_state (casino) and convert to probability\n",
    "        y_pred = model(cur_state) \n",
    "        av_softmax = softmax(y_pred.data.numpy(), tau=2.0) \n",
    "        av_softmax /= av_softmax.sum() \n",
    "        \n",
    "        # pick a random bandit and collect reward\n",
    "        choice = np.random.choice(n_bandits, p=av_softmax) \n",
    "        cur_reward = env.choose_arm(choice) \n",
    "        one_hot_reward = y_pred.data.numpy().copy() \n",
    "        one_hot_reward[choice] = cur_reward \n",
    "        reward = torch.Tensor(one_hot_reward)\n",
    "        rewards.append(cur_reward)\n",
    "        \n",
    "        # compute loss for nn and update weights\n",
    "        loss = loss_fn(y_pred, reward)\n",
    "        optimizer.zero_grad()\n",
    "        loss.backward()\n",
    "        optimizer.step()\n",
    "        \n",
    "        # update current casino\n",
    "        cur_state = torch.Tensor(one_hot(n_casinos, env.get_state())) \n",
    "        \n",
    "    return np.array(rewards)"
   ]
  },
  {
   "cell_type": "code",
   "execution_count": 12,
   "metadata": {},
   "outputs": [],
   "source": [
    "rewards = train(env)"
   ]
  },
  {
   "cell_type": "code",
   "execution_count": 13,
   "metadata": {},
   "outputs": [
    {
     "data": {
      "text/plain": [
       "[<matplotlib.lines.Line2D at 0x1da7615a8c8>]"
      ]
     },
     "execution_count": 13,
     "metadata": {},
     "output_type": "execute_result"
    },
    {
     "data": {
      "image/png": "[encoded data removed]",
      "text/plain": [
       "<Figure size 432x288 with 1 Axes>"
      ]
     },
     "metadata": {
      "needs_background": "light"
     },
     "output_type": "display_data"
    }
   ],
   "source": [
    "plt.plot(running_mean(rewards, N=500))"
   ]
  },
  {
   "cell_type": "code",
   "execution_count": null,
   "metadata": {},
   "outputs": [],
   "source": []
  },
  {
   "cell_type": "code",
   "execution_count": null,
   "metadata": {},
   "outputs": [],
   "source": []
  }
 ],
 "metadata": {
  "kernelspec": {
   "display_name": "Python 3",
   "language": "python",
   "name": "python3"
  },
  "language_info": {
   "codemirror_mode": {
    "name": "ipython",
    "version": 3
   },
   "file_extension": ".py",
   "mimetype": "text/x-python",
   "name": "python",
   "nbconvert_exporter": "python",
   "pygments_lexer": "ipython3",
   "version": "3.7.9"
  }
 },
 "nbformat": 4,
 "nbformat_minor": 2
}
